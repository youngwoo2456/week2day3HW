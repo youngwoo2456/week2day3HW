{
 "cells": [
  {
   "cell_type": "markdown",
   "metadata": {},
   "source": [
    "# Data Collections 2 (Dictionaries, Sets) and Importing Modules"
   ]
  },
  {
   "cell_type": "markdown",
   "metadata": {},
   "source": [
    "## Tasks Today:\n",
    "\n",
    "1) Dictionary <br>\n",
    " &nbsp;&nbsp;&nbsp;&nbsp; a) Declaring (key, value) <br>\n",
    " &nbsp;&nbsp;&nbsp;&nbsp; b) Accessing Values <br>\n",
    " &nbsp;&nbsp;&nbsp;&nbsp; ------ Exercise #1 - Print the eye color of each person in a double nested dict <br>\n",
    " &nbsp;&nbsp;&nbsp;&nbsp; c) Adding New Pairs <br>\n",
    " &nbsp;&nbsp;&nbsp;&nbsp; d) Modifying Values <br>\n",
    " &nbsp;&nbsp;&nbsp;&nbsp; e) Removing Key, Value Pairs <br>\n",
    " &nbsp;&nbsp;&nbsp;&nbsp; f) Looping a Dictionary <br>\n",
    " &nbsp;&nbsp;&nbsp;&nbsp; g) Looping Only Keys <br>\n",
    " &nbsp;&nbsp;&nbsp;&nbsp; h) Looping Only Values <br>\n",
    " &nbsp;&nbsp;&nbsp;&nbsp; ------ Exercise #2 - Create a Function that Prints All Key Value Pairs within a print .format()  <br>\n",
    " &nbsp;&nbsp;&nbsp;&nbsp; i) sorted() <br>\n",
    " &nbsp;&nbsp;&nbsp;&nbsp; j) Lists with Dictionaries <br>\n",
    " &nbsp;&nbsp;&nbsp;&nbsp; k) Dictionaries with Lists <br>\n",
    " &nbsp;&nbsp;&nbsp;&nbsp; l) Dictionaries with Dictionaries <br>\n",
    " &nbsp;&nbsp;&nbsp;&nbsp; ------ Exercise #3 - Write a Function that asks someone's name and address, and then stores that into a dictionary, which prints all names and addresses after they're done putting information in...  <br>\n",
    "2) Dictionaries vs. Lists (over time)<br>\n",
    "3) Set <br>\n",
    " &nbsp;&nbsp;&nbsp;&nbsp; a) Declaring <br>\n",
    " &nbsp;&nbsp;&nbsp;&nbsp; b) .add() <br>\n",
    " &nbsp;&nbsp;&nbsp;&nbsp; c) .remove() <br>\n",
    " &nbsp;&nbsp;&nbsp;&nbsp; d) .union() <br>\n",
    " &nbsp;&nbsp;&nbsp;&nbsp; e) .intersection() <br>\n",
    " &nbsp;&nbsp;&nbsp;&nbsp; f) .difference() <br>\n",
    " &nbsp;&nbsp;&nbsp;&nbsp; g) Frozen Set <br>\n",
    "4) Modules <br>\n",
    " &nbsp;&nbsp;&nbsp;&nbsp; a) Importing Entire Modules <br>\n",
    " &nbsp;&nbsp;&nbsp;&nbsp; b) Importing Methods Only <br>\n",
    " &nbsp;&nbsp;&nbsp;&nbsp; c) Using the 'as' Keyword <br>\n",
    " &nbsp;&nbsp;&nbsp;&nbsp; d) Creating a Module <br>\n",
    "5) Exercises <br>\n",
    " &nbsp;&nbsp;&nbsp;&nbsp; a) Build a Shopping Cart <br>\n",
    " &nbsp;&nbsp;&nbsp;&nbsp; b) Create Your Own Module <br>"
   ]
  },
  {
   "cell_type": "markdown",
   "metadata": {},
   "source": [
    "## Dictionary <br>\n",
    "<p>A collection of data with 'key:value' pairs. Dictionaries are ordered as of Python 3.6</p>"
   ]
  },
  {
   "cell_type": "markdown",
   "metadata": {},
   "source": [
    "##### Declaring (key, value)"
   ]
  },
  {
   "cell_type": "code",
   "execution_count": 7,
   "metadata": {},
   "outputs": [
    {
     "name": "stdout",
     "output_type": "stream",
     "text": [
      "value1\n"
     ]
    }
   ],
   "source": [
    "#ordered based on order of insertion, usually unordered in other languages and cannot index into it \n",
    "#declare using {} or = dict()\n",
    "d_1 = {}\n",
    "type(d_1)\n",
    "#or\n",
    "d_2 = dict()\n",
    "#lastly\n",
    "d_3={\n",
    "    'key1': 'value1',\n",
    "    'name': 'Young',\n",
    "    'age': 22,\n",
    "    1: True\n",
    "}\n"
   ]
  },
  {
   "cell_type": "markdown",
   "metadata": {},
   "source": [
    "##### Accessing Values"
   ]
  },
  {
   "cell_type": "code",
   "execution_count": 96,
   "metadata": {},
   "outputs": [
    {
     "name": "stdout",
     "output_type": "stream",
     "text": [
      "Young\n"
     ]
    }
   ],
   "source": [
    "#acces by: dict[key]\n",
    "#remember format: key:value\n",
    "#using value 1 or 2 will go to True or False value, use descriptive key terms\n",
    "print(d_3['name'])"
   ]
  },
  {
   "cell_type": "markdown",
   "metadata": {},
   "source": [
    "## In-Class Exercise #1 - Print a formatted statement from the dictionary below <br>\n",
    "<p>The output should be '2018 Chevrolet Silverado'</p>"
   ]
  },
  {
   "cell_type": "code",
   "execution_count": 8,
   "metadata": {},
   "outputs": [
    {
     "name": "stdout",
     "output_type": "stream",
     "text": [
      "My truck is a 2018 Chevrolet Silverado!\n"
     ]
    }
   ],
   "source": [
    "# use the dict below\n",
    "truck = {\n",
    "    'year': 2018,\n",
    "    'make': 'Chevrolet',\n",
    "    'model': 'Silverado'\n",
    "}\n",
    "print(f'My truck is a {truck[\"year\"]} {truck[\"make\"]} {truck[\"model\"]}!')\n",
    "#have to do double quote\n"
   ]
  },
  {
   "cell_type": "markdown",
   "metadata": {},
   "source": [
    "##### Adding New Pairs"
   ]
  },
  {
   "cell_type": "code",
   "execution_count": 15,
   "metadata": {},
   "outputs": [
    {
     "name": "stdout",
     "output_type": "stream",
     "text": [
      "{'key1': 'value1', 'name': 'Young', 'age': 22, 1: True, 'superpower': 'teleportation'}\n"
     ]
    }
   ],
   "source": [
    "d_3['superpower']= 'teleportation'\n",
    "print(d_3)"
   ]
  },
  {
   "cell_type": "markdown",
   "metadata": {},
   "source": [
    "##### Modifying Values"
   ]
  },
  {
   "cell_type": "code",
   "execution_count": 10,
   "metadata": {},
   "outputs": [
    {
     "name": "stdout",
     "output_type": "stream",
     "text": [
      "{'key1': 'value1', 'name': 'Young', 'age': 22, 1: True, 'superpower': 'flying'}\n"
     ]
    }
   ],
   "source": [
    "d_3['superpower']='flying'\n",
    "print(d_3)\n",
    "#can only have unique key names"
   ]
  },
  {
   "cell_type": "markdown",
   "metadata": {},
   "source": [
    "##### Removing Key, Value Pairs"
   ]
  },
  {
   "cell_type": "code",
   "execution_count": 16,
   "metadata": {},
   "outputs": [
    {
     "name": "stdout",
     "output_type": "stream",
     "text": [
      "{'name': 'Young', 'age': 22, 1: True, 'superpower': 'flying'}\n"
     ]
    }
   ],
   "source": [
    "del d_3['key1']\n",
    "print(d_3)"
   ]
  },
  {
   "cell_type": "markdown",
   "metadata": {},
   "source": [
    "##### Looping a Dictionary"
   ]
  },
  {
   "cell_type": "code",
   "execution_count": 19,
   "metadata": {},
   "outputs": [
    {
     "name": "stdout",
     "output_type": "stream",
     "text": [
      "('name', 'Young')\n",
      "('age', 22)\n",
      "(1, True)\n",
      "('superpower', 'flying')\n",
      "name Young\n",
      "age 22\n",
      "1 True\n",
      "superpower flying\n"
     ]
    }
   ],
   "source": [
    "# .items()\n",
    "# a, b, c = 1, 2, 3\n",
    "# print(a)\n",
    "# print(b)\n",
    "# print(c)\n",
    "\n",
    "for item in d_3.items():\n",
    "    print(item)     #will bring tuples\n",
    "\n",
    "for key, value in d_3.items():\n",
    "    print(key,value)  #looping through keys and values"
   ]
  },
  {
   "cell_type": "code",
   "execution_count": null,
   "metadata": {},
   "outputs": [],
   "source": [
    "#destructuring \n",
    "my_tuple =(1,2,3)\n",
    "a, b, c = my_tuple      #assigning each item(a,b,c) to tuple\n",
    "print(a)\n",
    "print(b)\n",
    "prinT(c)"
   ]
  },
  {
   "cell_type": "markdown",
   "metadata": {},
   "source": [
    "##### Looping Only Keys"
   ]
  },
  {
   "cell_type": "code",
   "execution_count": 20,
   "metadata": {},
   "outputs": [
    {
     "name": "stdout",
     "output_type": "stream",
     "text": [
      "name\n",
      "age\n",
      "1\n",
      "superpower\n"
     ]
    }
   ],
   "source": [
    "# .keys()\n",
    "for key in d_3.keys():\n",
    "    print(key)\n"
   ]
  },
  {
   "cell_type": "markdown",
   "metadata": {},
   "source": [
    "##### Looping Only Values"
   ]
  },
  {
   "cell_type": "code",
   "execution_count": 25,
   "metadata": {},
   "outputs": [
    {
     "name": "stdout",
     "output_type": "stream",
     "text": [
      "name\n",
      "age\n",
      "1\n",
      "superpower\n"
     ]
    }
   ],
   "source": [
    "# .values()\n",
    "for x in d_3.keys():\n",
    "    print(x)\n"
   ]
  },
  {
   "cell_type": "markdown",
   "metadata": {},
   "source": [
    "## In-Class Exercise #2 - Create a Function that Prints All Key Value Pairs within a print .format() <br>\n",
    "<p><b>Output should be:</b><br>\n",
    "Max has blue eyes<br>\n",
    "Lilly has brown eyes<br>\n",
    "Barney has blue eyes<br>\n",
    "etc.\n",
    "</p>"
   ]
  },
  {
   "cell_type": "code",
   "execution_count": 35,
   "metadata": {},
   "outputs": [
    {
     "name": "stdout",
     "output_type": "stream",
     "text": [
      "Max has blue eyes\n",
      "Lilly has brown eyes\n",
      "Barney has blue eyes\n",
      "Larney has brown eyes\n",
      "Ted has purple eyes\n",
      "None\n"
     ]
    }
   ],
   "source": [
    "# use the dict below\n",
    "\n",
    "people = {\n",
    "    'Max': 'blue',\n",
    "    'Lilly': 'brown',\n",
    "    'Barney': 'blue',\n",
    "    'Larney': 'brown',\n",
    "    'Ted': 'purple'\n",
    "}\n",
    "def theFunction(dict1):\n",
    "    for key, value in dict1.items():\n",
    "        print(f'{key} has {value} eyes')\n",
    "    return \n",
    "print(theFunction(people))\n"
   ]
  },
  {
   "cell_type": "markdown",
   "metadata": {},
   "source": [
    "##### sorted()"
   ]
  },
  {
   "cell_type": "code",
   "execution_count": 42,
   "metadata": {},
   "outputs": [
    {
     "name": "stdout",
     "output_type": "stream",
     "text": [
      "[('Barney', 'blue'), ('Larney', 'brown'), ('Lilly', 'brown'), ('Max', 'blue'), ('Ted', 'purple')]\n",
      "['Barney', 'Larney', 'Lilly', 'Max', 'Ted']\n",
      "['blue', 'blue', 'brown', 'brown', 'purple']\n",
      "blue\n",
      "blue\n",
      "brown\n",
      "brown\n",
      "purple\n"
     ]
    }
   ],
   "source": [
    "# sorts variables in order\n",
    "# sorted(dict.values()) or dict.keys() or dict.items()\n",
    "print(sorted(people.items()))\n",
    "print(sorted(people.keys()))\n",
    "print(sorted(people.values()))\n",
    "\n",
    "sorted_values = sorted(people.values())\n",
    "for value in sorted_values:\n",
    "    print(value)"
   ]
  },
  {
   "cell_type": "markdown",
   "metadata": {},
   "source": [
    "##### List with Dictionaries"
   ]
  },
  {
   "cell_type": "code",
   "execution_count": 51,
   "metadata": {},
   "outputs": [
    {
     "name": "stdout",
     "output_type": "stream",
     "text": [
      "jerry\n",
      "student1 jerry\n",
      "student2 peter\n"
     ]
    }
   ],
   "source": [
    "name = ['shoha','Ivan', 'shinha',{'student1':'jerry', 'student2':'peter'}]\n",
    "print(name[3]['student1'])\n",
    "\n",
    "for key, value in name[3].items():\n",
    "    print(key, value)"
   ]
  },
  {
   "cell_type": "markdown",
   "metadata": {},
   "source": [
    "##### Dictionaries with Lists"
   ]
  },
  {
   "cell_type": "code",
   "execution_count": 60,
   "metadata": {},
   "outputs": [
    {
     "name": "stdout",
     "output_type": "stream",
     "text": [
      "{'list': [54, 32, 5], '2': ['hello']}\n",
      "[54, 32, 5]\n",
      "32\n",
      "['hello']\n",
      "hello\n",
      "hel\n"
     ]
    }
   ],
   "source": [
    "# be careful when using numbers as keys in dictionaries, don't confuse them with indexes\n",
    "random = {\n",
    "    'list': [54,32,5],\n",
    "    '2' : ['hello']\n",
    "}\n",
    "print(random)\n",
    "print(random['list'])\n",
    "print(random['list'][1])\n",
    "\n",
    "print(random['2'])\n",
    "print(random['2'][0])\n",
    "print(random['2'][0][0:3])"
   ]
  },
  {
   "cell_type": "markdown",
   "metadata": {},
   "source": [
    "##### Dictionaries with Dictionaries"
   ]
  },
  {
   "cell_type": "code",
   "execution_count": 100,
   "metadata": {},
   "outputs": [
    {
     "name": "stdout",
     "output_type": "stream",
     "text": [
      "dict_values([{'chocolate': 2.99, 'vanilla': 2.99, 'oreo': 3.99}, {'sprinkles': 99, 'gummy-worms': 0.99, 'fudge': 1.99, 'oreo': 1.99}])\n",
      "{'chocolate': 2.99, 'vanilla': 2.99, 'oreo': 3.99}\n",
      "99\n",
      "==============================================================================\n",
      "fudge\n",
      "range(0, 10)\n",
      "[0, 1, 2, 3, 4, 5, 6, 7, 8, 9]\n",
      "===============================================\n",
      "99\n",
      "0.99\n",
      "1.99\n",
      "1.99\n"
     ]
    }
   ],
   "source": [
    "# to get values, must traverse through keys\n",
    "food_dict = {\n",
    "    'ice-cream': {\n",
    "        'chocolate': 2.99,\n",
    "        'vanilla': 2.99,\n",
    "        'oreo': 3.99\n",
    "    },\n",
    "    'toppings':{\n",
    "        'sprinkles':99,\n",
    "        'gummy-worms':.99,\n",
    "        'fudge':1.99,\n",
    "        'oreo':1.99\n",
    "    }\n",
    "}\n",
    "print(food_dict.values())\n",
    "print(food_dict['ice-cream'])\n",
    "print(food_dict['toppings']['sprinkles'])\n",
    "#gives you the value based on the path you went to: from toppings > sprinkles\n",
    "#THESE ARE NOT INDEXES, cannot do index 0 etc, only through the 'key' like 'oreo'\n",
    "\n",
    "print('==============================================================================')\n",
    "my_keys_of_toppings=list((food_dict['toppings'].keys()))\n",
    "print(my_keys_of_toppings[2])\n",
    "#can change INTO A LIST, if you want to index to it \n",
    "\n",
    "print(range(10))\n",
    "print(list(range(10)))\n",
    "\n",
    "print('===============================================')\n",
    "\n",
    "for key in my_keys_of_toppings:\n",
    "    print(food_dict['toppings'][key])"
   ]
  },
  {
   "cell_type": "markdown",
   "metadata": {},
   "source": [
    "## Dictionaries vs. Lists (over time) Example of RUNTIME\n",
    "### When inputting values in a Dictionary vs List"
   ]
  },
  {
   "cell_type": "code",
   "execution_count": 97,
   "metadata": {},
   "outputs": [],
   "source": [
    "import time\n",
    "\n",
    "\n",
    "# generate fake dictionary\n",
    "d = {}\n",
    "\n",
    "for i in range(10000000):\n",
    "    d[i] = 'value'\n",
    "    \n",
    "\n",
    "# generate fake list\n",
    "big_list = [x for x in range(10000000)]"
   ]
  },
  {
   "cell_type": "code",
   "execution_count": 98,
   "metadata": {},
   "outputs": [
    {
     "name": "stdout",
     "output_type": "stream",
     "text": [
      "value\n",
      "Elapsed time for dictionary: 0.0009963512420654297\n",
      "9999999\n",
      "Elapsed time for list: 0.9044125080108643\n"
     ]
    }
   ],
   "source": [
    "# tracking time for dictionary\n",
    "start_time = time.time()\n",
    "\n",
    "print(d[9999999])\n",
    "\n",
    "end_time = time.time() - start_time\n",
    "\n",
    "print('Elapsed time for dictionary: {}'.format(end_time))\n",
    "\n",
    "\n",
    "# tracking time for list\n",
    "start_time = time.time()\n",
    "\n",
    "for i in range(len(big_list)):\n",
    "    if i == 9999999:\n",
    "        print(i)\n",
    "\n",
    "end_time = time.time() - start_time\n",
    "\n",
    "print('Elapsed time for list: {}'.format(end_time))"
   ]
  },
  {
   "cell_type": "markdown",
   "metadata": {},
   "source": [
    "## Exercise #3 - Write a Function that asks someone's name and address, and then stores that into a dictionary, and continues to do so until they choose to 'quit'. Once they quit, the program should print all names and addresses. <br>\n",
    "<p>\n",
    "<b>Proper steps:</b><br>\n",
    "step 1: write a function that takes in information and stores it in a dictionary<br>\n",
    "step 2: define an empty dictionary to work with<br>\n",
    "step 3: create our loop, which asks the user for information until they quit<br>\n",
    "step 4: ask for the information, and store it into variables<br>\n",
    "step 5: check if the user types quit<br>\n",
    "step 5a: print out all information<br>\n",
    "step 5b: break out of the loop<br>\n",
    "step 6: if they didn't quit, add the information to the dictionary<br>\n",
    "step 7: invoke the function by calling it\n",
    "</p>"
   ]
  },
  {
   "cell_type": "code",
   "execution_count": 160,
   "metadata": {},
   "outputs": [
    {
     "name": "stdout",
     "output_type": "stream",
     "text": [
      "{'person1': {'first name': 'As', 'last name': 'As', 'address': 'As'}}\n"
     ]
    }
   ],
   "source": [
    "from IPython.display import clear_output\n",
    "# dict2={}\n",
    "# def addressBook (dict2):\n",
    "#     dict2={}\n",
    "#     dict_keys= input('what is your name')\n",
    "#     dict_values=input('what is your address')\n",
    "#     if dict_keys.lower() or dict_values.lower() == 'quit':\n",
    "#         print('')\n",
    "#     else:\n",
    "#         dict2 = {\n",
    "#             dict_keys:dict_values\n",
    "#         }\n",
    "#     return dict2\n",
    "    \n",
    "# addressBook(dict2)\n",
    "\n",
    "def getInfo():\n",
    "    address_book={}\n",
    "    count = 1     \n",
    "#while True: lets you run an infinite loop; condition is bullion value True, so will run until you break\n",
    "    while True:      #is what lets you ask the question, while condition is true keep running this loop; \n",
    "        answer = input('Add another input or quit? : (add/quit)')\n",
    "        clear_output()\n",
    "        if answer.lower() =='add':\n",
    "            first_name = input('What is your first name?').title()\n",
    "            last_name = input('What is your last name?').title()\n",
    "            address = input('What is your address').title()\n",
    "            #print(first_name, last_name, address)\n",
    "            address_book[f'person{count}'] = {\n",
    "                'first name': first_name,\n",
    "                'last name': last_name,\n",
    "                'address': address\n",
    "            }\n",
    "            count+=1\n",
    "            print(address_book)\n",
    "            \n",
    "        elif answer.lower()== 'quit':\n",
    "            break\n",
    "        else:\n",
    "            print('Invalid input. Please type \"add\" or \"quit\"' )\n",
    "        \n",
    "    return(address_book)\n",
    "            \n",
    "my_addresses= getInfo()\n",
    "\n",
    "\n"
   ]
  },
  {
   "cell_type": "code",
   "execution_count": 179,
   "metadata": {},
   "outputs": [
    {
     "name": "stdout",
     "output_type": "stream",
     "text": [
      "20.0\n"
     ]
    }
   ],
   "source": [
    "# Complete the function that takes a single list of numbers. Your function must return the sum of the even values of this list.\n",
    "\n",
    "# Only numbers without decimals like 4 or 4.0 can be even.\n",
    "\n",
    "# The input is a sequence of numbers: integers and/or floats.\n",
    "\n",
    "# [4, 1, 5, 10, 7, 9, 8]  -->  30   # because 4 + 2 + 10 + 6 + 8 = 22\n",
    "# []                               -->  0\n",
    "# [4.0, 6.6, 2] --> 6.0 because 4.0 + 2 = 6.0\n",
    "\n",
    "\n",
    "\n",
    "num_list1=[1,4,6,7,8, 2.0]\n",
    "def sumNumbers (numList):\n",
    "    new_list =[]\n",
    "#     input_Numbers = input(\"Please input numbers\")\n",
    "    for x in numList:\n",
    "        if x % 2 ==0:\n",
    "            new_list.append(x)\n",
    "        else: \n",
    "            continue\n",
    "            \n",
    "    return sum(new_list)\n",
    "\n",
    "print(sumNumbers(num_list1))\n",
    "    \n",
    "\n"
   ]
  },
  {
   "cell_type": "code",
   "execution_count": 177,
   "metadata": {},
   "outputs": [
    {
     "data": {
      "text/plain": [
       "22"
      ]
     },
     "execution_count": 177,
     "metadata": {},
     "output_type": "execute_result"
    }
   ],
   "source": [
    "#this is list comprehension version of the way I solved it\n",
    "def sumOfEvenLC(lst1):\n",
    "    return sum([num for num in lst1 if num%2 ==0])\n",
    "\n",
    "sumOfEvenLC([4,1,5,10,9,8])"
   ]
  },
  {
   "cell_type": "code",
   "execution_count": 178,
   "metadata": {},
   "outputs": [
    {
     "data": {
      "text/plain": [
       "22"
      ]
     },
     "execution_count": 178,
     "metadata": {},
     "output_type": "execute_result"
    }
   ],
   "source": [
    "#method 2, how Shoha solved it\n",
    "def sumOfEven(lst1):\n",
    "    mySum =0\n",
    "    for num in lst1:\n",
    "        if num%2 == 0:\n",
    "            mySum += num\n",
    "    return mySum\n",
    "sumOfEven([4,1,5,10,9,8])\n"
   ]
  },
  {
   "cell_type": "code",
   "execution_count": 125,
   "metadata": {},
   "outputs": [
    {
     "data": {
      "text/plain": [
       "'F'"
      ]
     },
     "execution_count": 125,
     "metadata": {},
     "output_type": "execute_result"
    }
   ],
   "source": [
    "my_addresses['person2']['address']\n"
   ]
  },
  {
   "cell_type": "code",
   "execution_count": 128,
   "metadata": {},
   "outputs": [
    {
     "data": {
      "text/plain": [
       "['person1']"
      ]
     },
     "execution_count": 128,
     "metadata": {},
     "output_type": "execute_result"
    }
   ],
   "source": [
    "list(my_addresses.keys())"
   ]
  },
  {
   "cell_type": "markdown",
   "metadata": {},
   "source": [
    "## Set <br>\n",
    "<p>A Set is an unordered collection data type that is iterable (loop), mutable, and has no duplicate elements.<br>Major advantage is that it is highly optimized in checking if something is in the set, as opposed to checking if something is in a list.</p>"
   ]
  },
  {
   "cell_type": "markdown",
   "metadata": {},
   "source": [
    "##### Declaring"
   ]
  },
  {
   "cell_type": "code",
   "execution_count": 134,
   "metadata": {},
   "outputs": [
    {
     "name": "stdout",
     "output_type": "stream",
     "text": [
      "set()\n"
     ]
    }
   ],
   "source": [
    "# set() or {}\n",
    "# no order {3, 2, 1} outputs as {1, 2, 3}\n",
    "nums = {3,2,1}\n",
    "type(nums)\n",
    "\n",
    "#or\n",
    "nums2=set()\n",
    "print(nums2)"
   ]
  },
  {
   "cell_type": "markdown",
   "metadata": {},
   "source": [
    "##### .add()"
   ]
  },
  {
   "cell_type": "code",
   "execution_count": 135,
   "metadata": {},
   "outputs": [
    {
     "name": "stdout",
     "output_type": "stream",
     "text": [
      "{1}\n"
     ]
    }
   ],
   "source": [
    "# set.add()\n",
    "nums2.add(1)\n",
    "print(nums2)"
   ]
  },
  {
   "cell_type": "markdown",
   "metadata": {},
   "source": [
    "##### .remove()"
   ]
  },
  {
   "cell_type": "code",
   "execution_count": 136,
   "metadata": {},
   "outputs": [
    {
     "name": "stdout",
     "output_type": "stream",
     "text": [
      "{2, 3}\n"
     ]
    }
   ],
   "source": [
    "# removes by value\n",
    "# set.remove()\n",
    "# nums.remove(56)\n",
    "nums.remove(1)\n",
    "print(nums)\n"
   ]
  },
  {
   "cell_type": "markdown",
   "metadata": {},
   "source": [
    "##### .union() "
   ]
  },
  {
   "cell_type": "code",
   "execution_count": 61,
   "metadata": {},
   "outputs": [
    {
     "name": "stdout",
     "output_type": "stream",
     "text": [
      "{1, 2, 3, 4, 5, 6}\n",
      "{1, 2, 3, 4, 5, 6}\n"
     ]
    }
   ],
   "source": [
    "# Returns a union of two sets, can also use '|' or set.union(set)\n",
    "# joins all numbers, gets rid of duplicates\n",
    "s1={1,2,3,4}\n",
    "s2={3,4,5,6}\n",
    "\n",
    "s3= s1.union(s2)\n",
    "print(s3)\n",
    "#doesn't matter which one goes first bc combining and no duplicates\n",
    "s4 = s1|s2\n",
    "print(s4)"
   ]
  },
  {
   "cell_type": "markdown",
   "metadata": {},
   "source": [
    "##### .intersection()"
   ]
  },
  {
   "cell_type": "code",
   "execution_count": 62,
   "metadata": {},
   "outputs": [
    {
     "name": "stdout",
     "output_type": "stream",
     "text": [
      "{3, 4}\n",
      "{3, 4}\n"
     ]
    }
   ],
   "source": [
    "# Returns an intersection of two sets, can also use '&'\n",
    "# only takes similar elements from both sets\n",
    "s5= s1.intersection(s2)\n",
    "print(s5)\n",
    "\n",
    "s6=s1 &s2\n",
    "print(s6)\n",
    "#finding what does have in common, doens't matter what goes first\n"
   ]
  },
  {
   "cell_type": "markdown",
   "metadata": {},
   "source": [
    "##### .difference()"
   ]
  },
  {
   "cell_type": "code",
   "execution_count": 140,
   "metadata": {},
   "outputs": [
    {
     "name": "stdout",
     "output_type": "stream",
     "text": [
      "{1, 2}\n",
      "{5, 6}\n"
     ]
    }
   ],
   "source": [
    "# Returns a set containing all the elements of invoking set that are not in the second set, can also use '-'\n",
    "# only takes values from the first set that are not in the second set\n",
    "# order matters\n",
    "s7 = s1.difference(s2)\n",
    "print(s7)\n",
    "\n",
    "s8 = s2-s1\n",
    "print(s8)\n",
    "#order matters, take away elements that are in common w/ the second element, keeps the one you want in front"
   ]
  },
  {
   "cell_type": "markdown",
   "metadata": {},
   "source": [
    "##### .clear()"
   ]
  },
  {
   "cell_type": "code",
   "execution_count": 141,
   "metadata": {},
   "outputs": [
    {
     "name": "stdout",
     "output_type": "stream",
     "text": [
      "{1, 2, 3, 4, 5, 6}\n",
      "set()\n"
     ]
    }
   ],
   "source": [
    "# Empties the whole set\n",
    "# set.clear()\n",
    "\n",
    "s9 = {1,2,3,4,5,6}\n",
    "print(s9)\n",
    "s9.clear()\n",
    "print(s9)\n"
   ]
  },
  {
   "cell_type": "markdown",
   "metadata": {},
   "source": [
    "##### Frozenset <br>\n",
    "<p>Frozen sets are immutable objects that only support methods and operators that produce a result without affecting the frozen set or sets to which they are applied.</p><br><b>Unique & Immutable</b>"
   ]
  },
  {
   "cell_type": "code",
   "execution_count": 145,
   "metadata": {},
   "outputs": [
    {
     "name": "stdout",
     "output_type": "stream",
     "text": [
      "frozenset({1, 2, 3, 4, 5, 6})\n"
     ]
    }
   ],
   "source": [
    "# frozenset([])\n",
    "#after declaration, you cannot change it\n",
    "myFrozenSet= frozenset(s3)\n",
    "print(myFrozenSet)\n",
    "\n",
    "#never used a frozen set before, can't index into sets(not subscriptable) "
   ]
  },
  {
   "cell_type": "markdown",
   "metadata": {},
   "source": [
    "## Modules"
   ]
  },
  {
   "cell_type": "markdown",
   "metadata": {},
   "source": [
    "##### Importing Entire Modules"
   ]
  },
  {
   "cell_type": "code",
   "execution_count": 151,
   "metadata": {},
   "outputs": [
    {
     "name": "stdout",
     "output_type": "stream",
     "text": [
      "3.141592653589793\n",
      "4\n"
     ]
    }
   ],
   "source": [
    "# import or from 'xxx' import *\n",
    "# import math\n",
    "import math\n",
    "print(math.pi)\n",
    "print(math.ceil(math.pi))\n",
    "#imported the entire math module\n"
   ]
  },
  {
   "cell_type": "markdown",
   "metadata": {},
   "source": [
    "##### Importing Methods Only"
   ]
  },
  {
   "cell_type": "code",
   "execution_count": 150,
   "metadata": {},
   "outputs": [
    {
     "name": "stdout",
     "output_type": "stream",
     "text": [
      "3.141592653589793\n",
      "4\n"
     ]
    }
   ],
   "source": [
    "# from 'xxx' import 'xxx'\n",
    "# from math import floor\n",
    "from math import pi, ceil\n",
    "\n",
    "print(pi)\n",
    "print(ceil(pi))\n",
    "#don't need to do the math.pi etc if you import just methods\n",
    "\n"
   ]
  },
  {
   "cell_type": "markdown",
   "metadata": {},
   "source": [
    "##### Using the 'as' Keyword"
   ]
  },
  {
   "cell_type": "code",
   "execution_count": 155,
   "metadata": {},
   "outputs": [
    {
     "name": "stdout",
     "output_type": "stream",
     "text": [
      "3.141592653589793\n",
      "3\n",
      "4\n"
     ]
    }
   ],
   "source": [
    "# from 'xxx' import 'xxx' as 'xxx' or import 'xxx' as 'xxx'\n",
    "# from math import floor as f\n",
    "from math import floor as f, pi as p\n",
    "print(p)\n",
    "print(f(p))\n",
    "#gives aliases"
   ]
  },
  {
   "cell_type": "markdown",
   "metadata": {},
   "source": [
    "##### Creating a Module"
   ]
  },
  {
   "cell_type": "code",
   "execution_count": 157,
   "metadata": {},
   "outputs": [
    {
     "ename": "ModuleNotFoundError",
     "evalue": "No module named 'module'",
     "output_type": "error",
     "traceback": [
      "\u001b[1;31m---------------------------------------------------------------------------\u001b[0m",
      "\u001b[1;31mModuleNotFoundError\u001b[0m                       Traceback (most recent call last)",
      "\u001b[1;32m<ipython-input-157-3c9aa7abc7be>\u001b[0m in \u001b[0;36m<module>\u001b[1;34m\u001b[0m\n\u001b[1;32m----> 1\u001b[1;33m \u001b[1;32mimport\u001b[0m \u001b[0mmodule\u001b[0m\u001b[1;33m\u001b[0m\u001b[1;33m\u001b[0m\u001b[0m\n\u001b[0m\u001b[0;32m      2\u001b[0m \u001b[0mprint\u001b[0m\u001b[1;33m(\u001b[0m\u001b[0mmodule\u001b[0m\u001b[1;33m.\u001b[0m\u001b[0mprintName\u001b[0m\u001b[1;33m(\u001b[0m\u001b[1;34m\"Shoha\"\u001b[0m\u001b[1;33m)\u001b[0m\u001b[1;33m)\u001b[0m\u001b[1;33m\u001b[0m\u001b[1;33m\u001b[0m\u001b[0m\n",
      "\u001b[1;31mModuleNotFoundError\u001b[0m: No module named 'module'"
     ]
    }
   ],
   "source": [
    "#creating your own module\n",
    "import module\n",
    "module.printName(\"Shoha\")\n",
    "\n",
    "#didn't input to folder - which is why it has an error"
   ]
  },
  {
   "cell_type": "code",
   "execution_count": 1,
   "metadata": {},
   "outputs": [
    {
     "ename": "ImportError",
     "evalue": "cannot import name 'printName' from 'module' (C:\\Users\\young\\Desktop\\Coding Summit\\Week2_Python_Basics\\day_3_lesson\\module.py)",
     "output_type": "error",
     "traceback": [
      "\u001b[1;31m---------------------------------------------------------------------------\u001b[0m",
      "\u001b[1;31mImportError\u001b[0m                               Traceback (most recent call last)",
      "\u001b[1;32m<ipython-input-1-63a1b00c4c95>\u001b[0m in \u001b[0;36m<module>\u001b[1;34m\u001b[0m\n\u001b[1;32m----> 1\u001b[1;33m \u001b[1;32mfrom\u001b[0m \u001b[0mmodule\u001b[0m \u001b[1;32mimport\u001b[0m \u001b[0mprintName\u001b[0m \u001b[1;32mas\u001b[0m \u001b[0mimportedFunctionToPrintName\u001b[0m\u001b[1;33m\u001b[0m\u001b[1;33m\u001b[0m\u001b[0m\n\u001b[0m\u001b[0;32m      2\u001b[0m \u001b[0mimportedFunctionToPrintName\u001b[0m\u001b[1;33m(\u001b[0m\u001b[1;34m\"Ivan\"\u001b[0m\u001b[1;33m)\u001b[0m       \u001b[1;31m#think he created a variable that does the module\u001b[0m\u001b[1;33m\u001b[0m\u001b[1;33m\u001b[0m\u001b[0m\n",
      "\u001b[1;31mImportError\u001b[0m: cannot import name 'printName' from 'module' (C:\\Users\\young\\Desktop\\Coding Summit\\Week2_Python_Basics\\day_3_lesson\\module.py)"
     ]
    }
   ],
   "source": [
    "from module import printName as importedFunctionToPrintName\n",
    "importedFunctionToPrintName(\"Ivan\")       #think he created a variable that does the module"
   ]
  },
  {
   "cell_type": "markdown",
   "metadata": {},
   "source": [
    "# Exercises"
   ]
  },
  {
   "cell_type": "markdown",
   "metadata": {},
   "source": [
    "### 1) Build a Shopping Cart <br>\n",
    "<p><b>You can use either lists or dictionaries. The program should have the following capabilities:</b><br><br>\n",
    "1) Takes in input <br>\n",
    "2) Stores user input into a dictionary or list <br>\n",
    "3) The User can add or delete items <br>\n",
    "4) The User can see current shopping list <br>\n",
    "5) The program Loops until user 'quits' <br>\n",
    "6) Upon quiting the program, print out all items in the user's list <br>\n",
    "</p>"
   ]
  },
  {
   "cell_type": "code",
   "execution_count": null,
   "metadata": {},
   "outputs": [
    {
     "name": "stdout",
     "output_type": "stream",
     "text": [
      "============================================== trying myself\n",
      "Do you want to \"add\", \"delete\", \"see\", or \"quit\" shopping cart?add\n",
      "What item do you want to put in the cart?shoe\n",
      "How many?2\n",
      "Do you want to \"add\", \"delete\", \"see\", or \"quit\" shopping cart?pork\n",
      "invalid input\n",
      "Do you want to \"add\", \"delete\", \"see\", or \"quit\" shopping cart?3\n",
      "invalid input\n",
      "Do you want to \"add\", \"delete\", \"see\", or \"quit\" shopping cart?add\n",
      "What item do you want to put in the cart?pork\n",
      "How many?3\n",
      "Do you want to \"add\", \"delete\", \"see\", or \"quit\" shopping cart?test\n",
      "invalid input\n",
      "Do you want to \"add\", \"delete\", \"see\", or \"quit\" shopping cart?2\n",
      "invalid input\n",
      "Do you want to \"add\", \"delete\", \"see\", or \"quit\" shopping cart?add\n",
      "What item do you want to put in the cart?test\n",
      "How many?2\n",
      "Do you want to \"add\", \"delete\", \"see\", or \"quit\" shopping cart?see\n",
      "{'shoe': '2', 'pork': '3', 'test': '2'}\n",
      "Do you want to \"add\", \"delete\", \"see\", or \"quit\" shopping cart?delete\n",
      "what do you want to delete?who\n",
      "invalid input\n",
      "Do you want to \"add\", \"delete\", \"see\", or \"quit\" shopping cart?delete\n",
      "what do you want to delete?test\n",
      "Do you want to \"add\", \"delete\", \"see\", or \"quit\" shopping cart?see\n",
      "{'shoe': '2', 'pork': '3'}\n"
     ]
    }
   ],
   "source": [
    "from IPython.display import clear_output\n",
    "#thinks using dictionaries are better\n",
    "# Ask the user four bits of input: Do you want to : Show/Add/Delete or Quit?\n",
    "\n",
    "# my_cart= {}\n",
    "\n",
    "# def addToCart():\n",
    "#     item = input(\"What do you want to add?\")\n",
    "#     quantity = input('How many items do you want? (Please input a digit)')\n",
    "#     my_cart[item]= quantity\n",
    "\n",
    "# def showCart():\n",
    "#     print(my_cart)\n",
    "    \n",
    "# def removeFromCart():\n",
    "#     item = input('Which item do you want to remove from cart?')\n",
    "#     if item in my_cart:\n",
    "#         #remove item\n",
    "#         del my_cart[item]\n",
    "#         print(f'Successfully removed {item} from cart')\n",
    "#     else:\n",
    "#         print('Item not found')\n",
    "    \n",
    "# while True: \n",
    "#     answer = input('Do you want to : Show/Add/Delete/Quit?')\n",
    "#     if  answer.lower() == 'quit':\n",
    "#         showCart()\n",
    "#         break\n",
    "#     elif answer.lower()== 'add':\n",
    "#         addToCart()\n",
    "#     elif answer.lower()== 'show':\n",
    "#         showCart()\n",
    "#     elif answer.lower()== 'delete':\n",
    "#         removeFromCart()\n",
    "        \n",
    "\n",
    "\n",
    "    \n",
    "    \n",
    "    \n",
    "    \n",
    "print('============================================== trying myself')\n",
    "\n",
    "#takes in input: to add/delete/see list/quit\n",
    "\n",
    "\n",
    "my_cart={}\n",
    "\n",
    "def addCart(the_cart):\n",
    "    the_key = input('What item do you want to put in the cart?')\n",
    "    the_value = input('How many?')\n",
    "    my_cart[the_key]= the_value\n",
    "\n",
    "def seeCart(the_cart):\n",
    "    print(the_cart)\n",
    "\n",
    "def delCart(the_cart):\n",
    "    answer = input('what do you want to delete?')\n",
    "    if answer in my_cart:\n",
    "        del the_cart[answer]\n",
    "    else:\n",
    "        print('invalid input')\n",
    "\n",
    "while True:\n",
    "    answer = input('Do you want to \"add\", \"delete\", \"see\", or \"quit\" shopping cart?')\n",
    "    if answer.lower() == 'add':\n",
    "        addCart(my_cart)\n",
    "    elif answer.lower() == 'delete':\n",
    "        delCart(my_cart)\n",
    "    elif answer.lower() == 'see':\n",
    "        seeCart(my_cart)\n",
    "    elif answer.lower() == 'quit':\n",
    "        break\n",
    "    else:\n",
    "        print('invalid input')\n",
    "        \n",
    "    \n",
    "    \n",
    "    \n",
    "    \n",
    "\n"
   ]
  },
  {
   "cell_type": "markdown",
   "metadata": {},
   "source": [
    "### 2) Create a Module in VS Code and Import It into jupyter notebook <br>\n",
    "<p><b>Module should have the following capabilities:</b><br><br>\n",
    "1) Has a function to calculate the square footage of a house <br>\n",
    "    <b>Reminder of Formula: Length X Width == Area<br>\n",
    "        <hr>\n",
    "2) Has a function to calculate the circumference of a circle <br><br>\n",
    "<b>Program in Jupyter Notebook should take in user input and use imported functions to calculate a circle's circumference or a houses square footage</b>\n",
    "</p>"
   ]
  },
  {
   "cell_type": "code",
   "execution_count": 102,
   "metadata": {},
   "outputs": [
    {
     "data": {
      "text/plain": [
       "62.830000000000005"
      ]
     },
     "execution_count": 102,
     "metadata": {},
     "output_type": "execute_result"
    }
   ],
   "source": [
    "import day3_hw_module\n",
    "day3_hw_module.findSquareFootHouse(10,5)\n",
    "\n",
    "from day3_hw_module import findCircum as fc\n",
    "fc(10)"
   ]
  },
  {
   "cell_type": "code",
   "execution_count": 95,
   "metadata": {},
   "outputs": [
    {
     "ename": "SyntaxError",
     "evalue": "unexpected EOF while parsing (<ipython-input-95-ca9b13f4fd2d>, line 31)",
     "output_type": "error",
     "traceback": [
      "\u001b[1;36m  File \u001b[1;32m\"<ipython-input-95-ca9b13f4fd2d>\"\u001b[1;36m, line \u001b[1;32m31\u001b[0m\n\u001b[1;33m    \u001b[0m\n\u001b[1;37m    ^\u001b[0m\n\u001b[1;31mSyntaxError\u001b[0m\u001b[1;31m:\u001b[0m unexpected EOF while parsing\n"
     ]
    }
   ],
   "source": [
    "#methods: take ticket: decreases tickets available by 1 & parking spaces available by 1\n",
    "#pay for parking: displays input that waits for an amount from the user and store it in a variable \n",
    "#display a message to user that their ticket has been paid, 15 min to leave\n",
    "#should update \"current ticket\" dictionary key \"paid\" to True\n",
    "\n",
    "#leave garage: if paid = True, \"thank you have a nice\", update parking spaces and ticket list \n",
    "\n",
    "\n",
    "ticket_paid = {}\n",
    "\n",
    "    \n",
    "def takeTicket(x, y):\n",
    "    x = x -1 \n",
    "    y = y- 1\n",
    "    num_spaces = print(f'There are {x} tickets and {y} parking spaces left')\n",
    "    return \n",
    "def payTicket():\n",
    "    amount = input('How much will you pay?')\n",
    "    ticket_paid[i]= amount\n",
    "\n",
    "while True:\n",
    "    answer = input('Do you want to: \"take ticket\", \"pay for parking\", \"leave garage\"')\n",
    "    if answer.lower() == 'take ticket':\n",
    "        takeTicket(tickets, parking)\n",
    "    elif answer.lower() == 'pay for parking':\n",
    "        \n",
    "        \n",
    "    \n",
    "\n",
    "\n",
    "\n"
   ]
  }
 ],
 "metadata": {
  "kernelspec": {
   "display_name": "Python 3",
   "language": "python",
   "name": "python3"
  },
  "language_info": {
   "codemirror_mode": {
    "name": "ipython",
    "version": 3
   },
   "file_extension": ".py",
   "mimetype": "text/x-python",
   "name": "python",
   "nbconvert_exporter": "python",
   "pygments_lexer": "ipython3",
   "version": "3.8.8"
  }
 },
 "nbformat": 4,
 "nbformat_minor": 2
}
